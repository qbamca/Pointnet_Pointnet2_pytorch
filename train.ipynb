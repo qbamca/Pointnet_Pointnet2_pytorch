{
 "cells": [
  {
   "cell_type": "code",
   "execution_count": null,
   "metadata": {
    "vscode": {
     "languageId": "shellscript"
    }
   },
   "outputs": [],
   "source": [
    "python train_classification.py --model pointnet_cls --log_dir igus003 --num_category 18 --batch_size 24 --epoch 100 --use_normals --learning_rate 0.0001"
   ]
  },
  {
   "cell_type": "code",
   "execution_count": null,
   "metadata": {
    "vscode": {
     "languageId": "shellscript"
    }
   },
   "outputs": [],
   "source": [
    "python train_classification.py --model pointnet2_cls_msg --log_dir igus005 --num_category 18 --batch_size 24 --epoch 10 --use_normals --learning_rate 0.001 --use_uniform_sample"
   ]
  },
  {
   "cell_type": "code",
   "execution_count": 5,
   "metadata": {
    "vscode": {
     "languageId": "shellscript"
    }
   },
   "outputs": [
    {
     "name": "stdout",
     "output_type": "stream",
     "text": [
      "PARAMETER ...\n",
      "Namespace(use_cpu=False, dataset='igus', gpu='0', batch_size=24, model='pointnet2_cls_msg', num_category=18, epoch=4, learning_rate=0.001, num_point=1024, optimizer='Adam', log_dir='igus007', decay_rate=0.0001, use_normals=True, process_data=False, use_uniform_sample=True)\n",
      "Load dataset ...\n",
      "The size of train data is 19084\n",
      "The size of test data is 4772\n",
      "INFO:Model:No existing model, starting training from scratch...\n",
      "No existing model, starting training from scratch...\n",
      "INFO:Model:Start training...\n",
      "INFO:Model:Epoch 1 (1/4):\n",
      "Epoch 1 (1/4):\n",
      "100%|█████████████████████████████████████████| 795/795 [11:16<00:00,  1.18it/s]\n",
      "INFO:Model:Train Instance Accuracy: 0.851258\n",
      "Train Instance Accuracy: 0.851258\n",
      "100%|█████████████████████████████████████████| 199/199 [02:52<00:00,  1.16it/s]\n",
      "INFO:Model:Test Instance Accuracy: 0.951843, Class Accuracy: nan\n",
      "Test Instance Accuracy: 0.951843, Class Accuracy: nan\n",
      "INFO:Model:Best Instance Accuracy: 0.951843, Class Accuracy: 0.000000\n",
      "Best Instance Accuracy: 0.951843, Class Accuracy: 0.000000\n",
      "INFO:Model:Save intermediate model...\n",
      "INFO:Model:Saving at log/classification/igus007/checkpoints/model_epoch_1.pth\n",
      "Saving at log/classification/igus007/checkpoints/model_epoch_1.pth\n",
      "INFO:Model:Save model...\n",
      "INFO:Model:Saving at log/classification/igus007/checkpoints/best_model.pth\n",
      "Saving at log/classification/igus007/checkpoints/best_model.pth\n",
      "INFO:Model:Epoch 2 (2/4):\n",
      "Epoch 2 (2/4):\n",
      "100%|█████████████████████████████████████████| 795/795 [11:18<00:00,  1.17it/s]\n",
      "INFO:Model:Train Instance Accuracy: 0.942505\n",
      "Train Instance Accuracy: 0.942505\n",
      "100%|█████████████████████████████████████████| 199/199 [02:53<00:00,  1.14it/s]\n",
      "INFO:Model:Test Instance Accuracy: 0.975921, Class Accuracy: nan\n",
      "Test Instance Accuracy: 0.975921, Class Accuracy: nan\n",
      "INFO:Model:Best Instance Accuracy: 0.975921, Class Accuracy: 0.000000\n",
      "Best Instance Accuracy: 0.975921, Class Accuracy: 0.000000\n",
      "INFO:Model:Save intermediate model...\n",
      "INFO:Model:Saving at log/classification/igus007/checkpoints/model_epoch_2.pth\n",
      "Saving at log/classification/igus007/checkpoints/model_epoch_2.pth\n",
      "INFO:Model:Save model...\n",
      "INFO:Model:Saving at log/classification/igus007/checkpoints/best_model.pth\n",
      "Saving at log/classification/igus007/checkpoints/best_model.pth\n",
      "INFO:Model:Epoch 3 (3/4):\n",
      "Epoch 3 (3/4):\n",
      "100%|█████████████████████████████████████████| 795/795 [11:20<00:00,  1.17it/s]\n",
      "INFO:Model:Train Instance Accuracy: 0.957285\n",
      "Train Instance Accuracy: 0.957285\n",
      "100%|█████████████████████████████████████████| 199/199 [02:53<00:00,  1.15it/s]\n",
      "INFO:Model:Test Instance Accuracy: 0.995394, Class Accuracy: nan\n",
      "Test Instance Accuracy: 0.995394, Class Accuracy: nan\n",
      "INFO:Model:Best Instance Accuracy: 0.995394, Class Accuracy: 0.000000\n",
      "Best Instance Accuracy: 0.995394, Class Accuracy: 0.000000\n",
      "INFO:Model:Save intermediate model...\n",
      "INFO:Model:Saving at log/classification/igus007/checkpoints/model_epoch_3.pth\n",
      "Saving at log/classification/igus007/checkpoints/model_epoch_3.pth\n",
      "INFO:Model:Save model...\n",
      "INFO:Model:Saving at log/classification/igus007/checkpoints/best_model.pth\n",
      "Saving at log/classification/igus007/checkpoints/best_model.pth\n",
      "INFO:Model:Epoch 4 (4/4):\n",
      "Epoch 4 (4/4):\n",
      "100%|█████████████████████████████████████████| 795/795 [11:25<00:00,  1.16it/s]\n",
      "INFO:Model:Train Instance Accuracy: 0.966562\n",
      "Train Instance Accuracy: 0.966562\n",
      "100%|█████████████████████████████████████████| 199/199 [02:53<00:00,  1.15it/s]\n",
      "INFO:Model:Test Instance Accuracy: 0.992044, Class Accuracy: nan\n",
      "Test Instance Accuracy: 0.992044, Class Accuracy: nan\n",
      "INFO:Model:Best Instance Accuracy: 0.995394, Class Accuracy: 0.000000\n",
      "Best Instance Accuracy: 0.995394, Class Accuracy: 0.000000\n",
      "INFO:Model:Save intermediate model...\n",
      "INFO:Model:Saving at log/classification/igus007/checkpoints/model_epoch_4.pth\n",
      "Saving at log/classification/igus007/checkpoints/model_epoch_4.pth\n",
      "INFO:Model:End of training...\n"
     ]
    }
   ],
   "source": [
    "!python train_classification.py --model pointnet2_cls_msg --log_dir igus007 --num_category 18 --batch_size 24 --epoch 4 --use_normals --learning_rate 0.001 --use_uniform_sample --dataset igus"
   ]
  }
 ],
 "metadata": {
  "kernelspec": {
   "display_name": ".venv",
   "language": "python",
   "name": "python3"
  },
  "language_info": {
   "codemirror_mode": {
    "name": "ipython",
    "version": 3
   },
   "file_extension": ".py",
   "mimetype": "text/x-python",
   "name": "python",
   "nbconvert_exporter": "python",
   "pygments_lexer": "ipython3",
   "version": "3.10.12"
  },
  "orig_nbformat": 4
 },
 "nbformat": 4,
 "nbformat_minor": 2
}
