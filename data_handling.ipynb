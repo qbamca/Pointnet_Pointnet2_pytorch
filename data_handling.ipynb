{
 "cells": [
  {
   "cell_type": "code",
   "execution_count": null,
   "metadata": {},
   "outputs": [],
   "source": [
    "# export model to NBS\n",
    "\n",
    "import shutil\n",
    "import os\n",
    "\n",
    "EXPERIMENT_NAME = 'igus009'\n",
    "EPOCH = 4\n",
    "\n",
    "FILENAME = f'model_epoch_{EPOCH}.pth' if EPOCH > 0 else 'model_best.pth'\n",
    "\n",
    "source_file_path = os.path.join('log/classification', EXPERIMENT_NAME, f'checkpoints/{FILENAME}')\n",
    "print(source_file_path)\n",
    "destination_file_path = '../../igus/next-best-standard/apps/cadclass/classifier/best_model.pth'\n",
    "\n",
    "shutil.copy2(source_file_path, destination_file_path)"
   ]
  }
 ],
 "metadata": {
  "kernelspec": {
   "display_name": "base",
   "language": "python",
   "name": "python3"
  },
  "language_info": {
   "codemirror_mode": {
    "name": "ipython",
    "version": 3
   },
   "file_extension": ".py",
   "mimetype": "text/x-python",
   "name": "python",
   "nbconvert_exporter": "python",
   "pygments_lexer": "ipython3",
   "version": "3.10.12"
  },
  "orig_nbformat": 4
 },
 "nbformat": 4,
 "nbformat_minor": 2
}
