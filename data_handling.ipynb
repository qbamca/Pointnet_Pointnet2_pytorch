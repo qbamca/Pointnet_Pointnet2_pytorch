{
 "cells": [
  {
   "cell_type": "code",
   "execution_count": 4,
   "metadata": {},
   "outputs": [],
   "source": [
    "import pandas as pd\n",
    "\n",
    "pd.set_option('display.width', 140)\n",
    "\n",
    "DATA_PATH = 'data/igus/lead_screw_nut'"
   ]
  },
  {
   "cell_type": "code",
   "execution_count": null,
   "metadata": {},
   "outputs": [],
   "source": [
    "# Path to your CSV file\n",
    "import os\n",
    "\n",
    "csv_file_path = os.path.join(DATA_PATH, 'all.csv')\n",
    "\n",
    "# Read the CSV into a DataFrame\n",
    "df = pd.read_csv(csv_file_path)\n",
    "\n",
    "# Initialize an empty list to store the parsed data\n",
    "data = []\n",
    "\n",
    "# Remove square brackets and then split string by comma\n",
    "def parse_string(s):\n",
    "  return [float(x) for x in s.strip('[]').split(',')]\n",
    "\n",
    "# Iterate through each row in the dataframe and parse the string values\n",
    "for index, row in df.iterrows():\n",
    "  x_values = parse_string(row['point_cloud_5000_x'])\n",
    "  y_values = parse_string(row['point_cloud_5000_y'])\n",
    "  z_values = parse_string(row['point_cloud_5000_z'])\n",
    "  \n",
    "  data.append([x_values, y_values, z_values])\n"
   ]
  },
  {
   "cell_type": "code",
   "execution_count": null,
   "metadata": {},
   "outputs": [
    {
     "name": "stdout",
     "output_type": "stream",
     "text": [
      "31\n",
      "3\n",
      "5000\n"
     ]
    }
   ],
   "source": [
    "# Output the parsed data\n",
    "print(len(data))\n",
    "print(len(data[0]))\n",
    "print(len(data[0][0]))"
   ]
  },
  {
   "cell_type": "code",
   "execution_count": null,
   "metadata": {},
   "outputs": [],
   "source": [
    "import os\n",
    "\n",
    "# Get the parent folder name\n",
    "parent_folder = os.path.basename(DATA_PATH)\n",
    "\n",
    "# Create a directory if it doesn't exist\n",
    "output_dir = DATA_PATH\n",
    "os.makedirs(output_dir, exist_ok=True)\n",
    "\n",
    "# Save each row to a separate file\n",
    "for i, row in enumerate(data):\n",
    "    with open(os.path.join(output_dir, f'{parent_folder}_{i}.txt'), 'w') as file:\n",
    "        for values in zip(row[0], row[1], row[2]):\n",
    "            file.write(','.join(map(str, values)) + '\\n')"
   ]
  },
  {
   "cell_type": "code",
   "execution_count": 8,
   "metadata": {},
   "outputs": [],
   "source": [
    "import os\n",
    "\n",
    "data_path_name = os.path.dirname(DATA_PATH)\n",
    "folders = [f for f in os.listdir(data_path_name) if os.path.isdir(os.path.join(data_path_name, f))]\n",
    "\n",
    "# Write the folder names to a file\n",
    "with open(os.path.join(data_path_name, 'igus_shape_names.txt'), 'w') as file:\n",
    "  for folder in folders:\n",
    "    file.write(folder + '\\n')\n",
    "\n",
    "\n",
    "\n"
   ]
  },
  {
   "cell_type": "code",
   "execution_count": 49,
   "metadata": {},
   "outputs": [
    {
     "name": "stdout",
     "output_type": "stream",
     "text": [
      "Skipping data/igus\n"
     ]
    }
   ],
   "source": [
    "\n",
    "from sklearn.model_selection import train_test_split\n",
    "from natsort import natsorted\n",
    "import re\n",
    "\n",
    "DATA_PATH = 'data/igus'\n",
    "# Define the output file path\n",
    "output_file = os.path.join(DATA_PATH, 'filelist.txt')\n",
    "\n",
    "# Clean up the output files if it already exists\n",
    "if os.path.exists(output_file):\n",
    "    os.remove(output_file)\n",
    "\n",
    "if os.path.exists(os.path.join(DATA_PATH, 'igus_train.txt')):\n",
    "    os.remove(os.path.join(DATA_PATH, 'igus_train.txt'))\n",
    "\n",
    "if os.path.exists(os.path.join(DATA_PATH, 'igus_test.txt')):\n",
    "    os.remove(os.path.join(DATA_PATH, 'igus_test.txt'))\n",
    "\n",
    "\n",
    "# Traverse the directory tree and find all files\n",
    "with open(output_file, 'w') as f_filelist:\n",
    "  for root, dirs, files in os.walk(DATA_PATH):\n",
    "    if root == DATA_PATH:\n",
    "        # Skip the first level of the directory tree\n",
    "        print('Skipping', root)\n",
    "        continue\n",
    "    sorted_files = natsorted(files)\n",
    "    X = []\n",
    "    y = []\n",
    "    for file in sorted_files:\n",
    "        # Write the file path relative to DATA_PATH to the output file\n",
    "        file_path = os.path.join(root, file)[len(DATA_PATH) + 1:]\n",
    "        f_filelist.write(file_path + '\\n')\n",
    "        match = re.match(r\"(.+)/(.+)\", file_path)\n",
    "\n",
    "        if match:\n",
    "            # Get the shape name\n",
    "            shape_name = match.group(1)\n",
    "            # Get the file name\n",
    "            file_name = match.group(2)\n",
    "            # Append the shape name to the list\n",
    "            y.append(shape_name)\n",
    "            # Append the file path to the list\n",
    "            X.append(file_name)\n",
    "        else:\n",
    "            # throw an error since the regex didn't match\n",
    "            raise ValueError(f\"Regex didn't match for file: {file_path}\")\n",
    "        \n",
    "    # Split the data into training and validation sets\n",
    "    X_train, X_val, y_train, y_val = train_test_split(X, y, test_size=0.2, random_state=42, stratify=y)\n",
    "\n",
    "    # Write the training data to a file\n",
    "    with open(os.path.join(DATA_PATH, 'igus_train.txt'), 'a') as f:\n",
    "        for x in natsorted(X_train):\n",
    "            f.write(x + '\\n')\n",
    "\n",
    "    # Write the validation data to a file\n",
    "    with open(os.path.join(DATA_PATH, 'igus_test.txt'), 'a') as f:\n",
    "        for x in natsorted(X_val):\n",
    "            f.write(x + '\\n')"
   ]
  },
  {
   "cell_type": "code",
   "execution_count": null,
   "metadata": {},
   "outputs": [],
   "source": []
  }
 ],
 "metadata": {
  "kernelspec": {
   "display_name": "base",
   "language": "python",
   "name": "python3"
  },
  "language_info": {
   "codemirror_mode": {
    "name": "ipython",
    "version": 3
   },
   "file_extension": ".py",
   "mimetype": "text/x-python",
   "name": "python",
   "nbconvert_exporter": "python",
   "pygments_lexer": "ipython3",
   "version": "3.11.4"
  },
  "orig_nbformat": 4
 },
 "nbformat": 4,
 "nbformat_minor": 2
}
